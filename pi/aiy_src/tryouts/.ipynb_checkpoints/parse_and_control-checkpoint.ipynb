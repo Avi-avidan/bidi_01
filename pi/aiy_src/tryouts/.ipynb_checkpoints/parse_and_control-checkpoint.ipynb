{
 "cells": [
  {
   "cell_type": "code",
   "execution_count": 9,
   "metadata": {},
   "outputs": [],
   "source": [
    "from adafruit_servokit import ServoKit\n",
    "import pandas as pd\n",
    "import time\n",
    "import datetime\n",
    "import os\n",
    "\n",
    "last_path = '/home/pi/log/com/last.csv'\n",
    "log_path = '/home/pi/log/com/log.csv'"
   ]
  },
  {
   "cell_type": "code",
   "execution_count": 10,
   "metadata": {},
   "outputs": [],
   "source": [
    "class Motors():\n",
    "    def __init__(self, ):\n",
    "        self.serv_range = dict()\n",
    "        self.serv_range[0] = {'mid': 25, 'min': 0, 'max': 162} # front cam pan\n",
    "        self.serv_range[1] = {'mid': 75, 'min': 30, 'max': 160} # front cam tilt\n",
    "        \n",
    "        self.serv_range[3] = {'mid': 90, 'min': 90, 'max': 135} # HCSR04\n",
    "        \n",
    "        self.serv_range[9] = {'mid': 30, 'min': 0, 'max': 120} # arm grip open/close\n",
    "        self.serv_range[10] = {'mid': 90, 'min': 0, 'max': 180} # arm rotate\n",
    "        self.serv_range[11] = {'mid': 180, 'min': 0, 'max': 180} # wrist\n",
    "        self.serv_range[12] = {'mid': 85, 'min': 82, 'max': 180} # elbow\n",
    "        self.serv_range[13] = {'mid': 30, 'min': 20, 'max': 180} # sholder\n",
    "        self.serv_range[14] = {'mid': 165, 'min': 130, 'max': 180} # base\n",
    "        self.servos = {s: 0 for s in [0, 1, 3, 9, 10, 11, 12, 13, 14]}\n",
    "        \n",
    "        self.kit = ServoKit(channels=16)\n",
    "        \n",
    "        self.init_servos()\n",
    "        \n",
    "        \n",
    "    def init_servos(self, servos=[]):\n",
    "        for s in servos:\n",
    "            time.sleep(0.1)\n",
    "            self.kit.servo[s].angle = self.serv_range[s]['mid']\n",
    "            self.servos[s] = self.serv_range[s]['mid']\n",
    "        if len(servos) > 0:\n",
    "            print(f'servos {\" \".join([str(s) for s in servos])} init complete')\n",
    "        \n",
    "    def move_arm(self, current, to, step=0.5):\n",
    "        order_ind = [0, 1, 5, 4, 3, 2]\n",
    "        while(current != to):\n",
    "            print(current, to)\n",
    "            for ind in order_ind:\n",
    "                if to[ind] > current[ind]:\n",
    "                    dif = min(step, to[ind]-current[ind])\n",
    "                    current[ind] += dif\n",
    "                    kit.servo[ind].angle = current[ind]\n",
    "                elif to[ind] < current[ind]:\n",
    "                    dif = min(step, current[ind]-to[ind])\n",
    "                    current[ind] -= dif\n",
    "                    kit.servo[ind].angle = current[ind]\n",
    "        return current\n",
    "    \n",
    "    def move_servo(self, num, trg, intervals=None, pause=1):\n",
    "        cur = m.servos[num]\n",
    "        if not intervals:\n",
    "            intervals = trg - cur\n",
    "        if trg != cur:\n",
    "            off = (trg - cur)//intervals\n",
    "            for i in range(intervals-1):\n",
    "                cur += off\n",
    "                self.kit.servo[num].angle = cur\n",
    "                time.sleep(pause/intervals)\n",
    "                self.servos[num] = cur\n",
    "            cur = trg\n",
    "            self.kit.servo[num].angle = trg\n",
    "            self.servos[num] = cur\n",
    "        return True\n",
    "    \n",
    "def get_date(ret_str=True):\n",
    "    date = datetime.date.today()\n",
    "    if ret_str:\n",
    "        return f'{date}'\n",
    "    return date\n",
    "\n",
    "def get_dt(ret_str=True):\n",
    "    dt = datetime.datetime.now()\n",
    "    if ret_str:\n",
    "        return f'{dt}'\n",
    "    return dt\n",
    "\n",
    "def str_to_dt(dt_str):\n",
    "    return datetime.datetime.fromisoformat(dt_str)"
   ]
  },
  {
   "cell_type": "code",
   "execution_count": 12,
   "metadata": {},
   "outputs": [
    {
     "name": "stdout",
     "output_type": "stream",
     "text": [
      "servos 0 1 3 9 10 11 12 13 14 init complete\n"
     ]
    }
   ],
   "source": [
    "m = Motors()\n",
    "m.init_servos(m.servos)"
   ]
  },
  {
   "cell_type": "code",
   "execution_count": 14,
   "metadata": {},
   "outputs": [
    {
     "name": "stdout",
     "output_type": "stream",
     "text": [
      "servo 3 cur: 90, trg 90\n",
      "No columns to parse from file\n",
      "servo 3 cur: 90, trg 45\n",
      "servo 3 cur: 45, trg 135\n",
      "servo 3 cur: 135, trg 90\n",
      "servo 3 cur: 90, trg 90\n",
      "servo 3 cur: 90, trg 45\n",
      "servo 3 cur: 45, trg 135\n",
      "servo 3 cur: 135, trg 90\n",
      "No columns to parse from file\n",
      "servo 3 cur: 90, trg 90\n",
      "No columns to parse from file\n",
      "servo 3 cur: 90, trg 45\n",
      "servo 3 cur: 45, trg 135\n",
      "servo 3 cur: 135, trg 90\n"
     ]
    },
    {
     "ename": "KeyboardInterrupt",
     "evalue": "",
     "output_type": "error",
     "traceback": [
      "\u001b[0;31m---------------------------------------------------------------------------\u001b[0m",
      "\u001b[0;31mKeyboardInterrupt\u001b[0m                         Traceback (most recent call last)",
      "\u001b[0;32m<ipython-input-14-077a4ce4e71c>\u001b[0m in \u001b[0;36m<module>\u001b[0;34m\u001b[0m\n\u001b[1;32m      5\u001b[0m \u001b[0;32mwhile\u001b[0m\u001b[0;34m(\u001b[0m\u001b[0;32mTrue\u001b[0m\u001b[0;34m)\u001b[0m\u001b[0;34m:\u001b[0m\u001b[0;34m\u001b[0m\u001b[0;34m\u001b[0m\u001b[0m\n\u001b[1;32m      6\u001b[0m     \u001b[0;32mtry\u001b[0m\u001b[0;34m:\u001b[0m\u001b[0;34m\u001b[0m\u001b[0;34m\u001b[0m\u001b[0m\n\u001b[0;32m----> 7\u001b[0;31m         \u001b[0mtime\u001b[0m\u001b[0;34m.\u001b[0m\u001b[0msleep\u001b[0m\u001b[0;34m(\u001b[0m\u001b[0;36m0.02\u001b[0m\u001b[0;34m)\u001b[0m\u001b[0;34m\u001b[0m\u001b[0;34m\u001b[0m\u001b[0m\n\u001b[0m\u001b[1;32m      8\u001b[0m         \u001b[0;32mif\u001b[0m \u001b[0mos\u001b[0m\u001b[0;34m.\u001b[0m\u001b[0mpath\u001b[0m\u001b[0;34m.\u001b[0m\u001b[0mexists\u001b[0m\u001b[0;34m(\u001b[0m\u001b[0mlast_path\u001b[0m\u001b[0;34m)\u001b[0m\u001b[0;34m:\u001b[0m\u001b[0;34m\u001b[0m\u001b[0;34m\u001b[0m\u001b[0m\n\u001b[1;32m      9\u001b[0m             \u001b[0mdf\u001b[0m \u001b[0;34m=\u001b[0m \u001b[0mpd\u001b[0m\u001b[0;34m.\u001b[0m\u001b[0mread_csv\u001b[0m\u001b[0;34m(\u001b[0m\u001b[0mlast_path\u001b[0m\u001b[0;34m,\u001b[0m \u001b[0musecols\u001b[0m\u001b[0;34m=\u001b[0m\u001b[0;34m[\u001b[0m\u001b[0;34m'motor'\u001b[0m\u001b[0;34m,\u001b[0m \u001b[0;34m'message'\u001b[0m\u001b[0;34m,\u001b[0m \u001b[0;34m'date'\u001b[0m\u001b[0;34m,\u001b[0m \u001b[0;34m'dt'\u001b[0m\u001b[0;34m]\u001b[0m\u001b[0;34m)\u001b[0m\u001b[0;34m\u001b[0m\u001b[0;34m\u001b[0m\u001b[0m\n",
      "\u001b[0;31mKeyboardInterrupt\u001b[0m: "
     ]
    }
   ],
   "source": [
    "while(True):\n",
    "    \n",
    "    try:\n",
    "        time.sleep(0.02)\n",
    "        if os.path.exists(last_path):\n",
    "            df = pd.read_csv(last_path, usecols=['motor', 'message', 'date', 'dt'])\n",
    "            for i, row in df.iterrows():\n",
    "                td = get_dt(ret_str=False) - str_to_dt(row['dt'])\n",
    "                if td.total_seconds() < 30:\n",
    "                    s = row['motor']\n",
    "                    trg = row['message']\n",
    "                    print(f'servo {s} cur: {m.servos[s]}, trg {trg}')\n",
    "                    m.move_servo(s, trg, intervals=None, pause=0.01)\n",
    "            df.to_csv(log_path, header=None, mode='a',)\n",
    "            os.remove(last_path)\n",
    "            print(m.servos)\n",
    "    except Exception as e:\n",
    "        print(e)\n",
    "        time.sleep(0.05)\n",
    "        pass"
   ]
  }
 ],
 "metadata": {
  "kernelspec": {
   "display_name": "Python 3",
   "language": "python",
   "name": "python3"
  },
  "language_info": {
   "codemirror_mode": {
    "name": "ipython",
    "version": 3
   },
   "file_extension": ".py",
   "mimetype": "text/x-python",
   "name": "python",
   "nbconvert_exporter": "python",
   "pygments_lexer": "ipython3",
   "version": "3.7.3"
  }
 },
 "nbformat": 4,
 "nbformat_minor": 2
}
