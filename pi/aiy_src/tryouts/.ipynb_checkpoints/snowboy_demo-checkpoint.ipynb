{
 "cells": [
  {
   "cell_type": "code",
   "execution_count": 1,
   "metadata": {},
   "outputs": [
    {
     "ename": "ModuleNotFoundError",
     "evalue": "No module named 'snowboydecoder'",
     "output_type": "error",
     "traceback": [
      "\u001b[0;31m---------------------------------------------------------------------------\u001b[0m",
      "\u001b[0;31mModuleNotFoundError\u001b[0m                       Traceback (most recent call last)",
      "\u001b[0;32m<ipython-input-1-4d28c4feacea>\u001b[0m in \u001b[0;36m<module>\u001b[0;34m\u001b[0m\n\u001b[0;32m----> 1\u001b[0;31m \u001b[0;32mimport\u001b[0m \u001b[0msnowboydecoder\u001b[0m\u001b[0;34m\u001b[0m\u001b[0;34m\u001b[0m\u001b[0m\n\u001b[0m\u001b[1;32m      2\u001b[0m \u001b[0;32mimport\u001b[0m \u001b[0msys\u001b[0m\u001b[0;34m\u001b[0m\u001b[0;34m\u001b[0m\u001b[0m\n\u001b[1;32m      3\u001b[0m \u001b[0;32mimport\u001b[0m \u001b[0msignal\u001b[0m\u001b[0;34m\u001b[0m\u001b[0;34m\u001b[0m\u001b[0m\n",
      "\u001b[0;31mModuleNotFoundError\u001b[0m: No module named 'snowboydecoder'"
     ]
    }
   ],
   "source": [
    "import snowboydecoder\n",
    "import sys\n",
    "import signal"
   ]
  },
  {
   "cell_type": "code",
   "execution_count": null,
   "metadata": {},
   "outputs": [],
   "source": [
    "import snowboydecoder\n",
    "def detected_callback():\n",
    "    print(\"hotword detected\")\n",
    "detector = snowboydecoder.HotwordDetector(\"hi_bidi.pmdl\", sensitivity=0.5, audio_gain=1)\n",
    "detector.start(detected_callback)"
   ]
  },
  {
   "cell_type": "code",
   "execution_count": null,
   "metadata": {},
   "outputs": [],
   "source": [
    "interrupted = False\n",
    "\n",
    "def signal_handler(signal, frame):\n",
    "    global interrupted\n",
    "    interrupted = True\n",
    "\n",
    "def interrupt_callback():\n",
    "    global interrupted\n",
    "    return interrupted\n",
    "\n",
    "if len(sys.argv) == 1:\n",
    "    print(\"Error: need to specify model name\")\n",
    "    print(\"Usage: python demo.py your.model\")\n",
    "    sys.exit(-1)\n",
    "\n",
    "model = sys.argv[1]\n",
    "\n",
    "signal.signal(signal.SIGINT, signal_handler)\n",
    "\n",
    "detector = snowboydecoder.HotwordDetector(model, sensitivity=0.5)\n",
    "print('Listening... Press Ctrl+C to exit')\n",
    "\n",
    "detector.start(detected_callback=snowboydecoder.ding_callback,\n",
    "               interrupt_check=interrupt_callback,\n",
    "               sleep_time=0.03)\n",
    "\n",
    "detector.terminate()"
   ]
  }
 ],
 "metadata": {
  "kernelspec": {
   "display_name": "Python 3",
   "language": "python",
   "name": "python3"
  },
  "language_info": {
   "codemirror_mode": {
    "name": "ipython",
    "version": 3
   },
   "file_extension": ".py",
   "mimetype": "text/x-python",
   "name": "python",
   "nbconvert_exporter": "python",
   "pygments_lexer": "ipython3",
   "version": "3.7.3"
  }
 },
 "nbformat": 4,
 "nbformat_minor": 2
}
