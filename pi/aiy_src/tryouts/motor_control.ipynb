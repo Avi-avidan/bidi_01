{
 "cells": [
  {
   "cell_type": "code",
   "execution_count": 1,
   "metadata": {},
   "outputs": [],
   "source": [
    "from adafruit_servokit import ServoKit\n",
    "kit = ServoKit(channels=16)"
   ]
  },
  {
   "cell_type": "code",
   "execution_count": 2,
   "metadata": {},
   "outputs": [],
   "source": [
    "arm_range = dict()\n",
    "arm_range[0] = [0, 120] #fully open, close\n",
    "arm_range[1] = [0, 180] #90 is horizontal\n",
    "arm_range[2] = [90, 150] #needs for a reposition\n",
    "arm_range[3] = [90, 180]\n",
    "arm_range[4] = [45, 120] #120 is vertical. real max is 180"
   ]
  },
  {
   "cell_type": "code",
   "execution_count": 187,
   "metadata": {},
   "outputs": [],
   "source": [
    "arm_yield = [60, 90, 110, 180, 90, 135]"
   ]
  },
  {
   "cell_type": "code",
   "execution_count": 252,
   "metadata": {},
   "outputs": [],
   "source": [
    "grab_pos = [0, 90, 130, 135, 125, 115]\n",
    "grab = [120, 90, 130, 135, 125, 115]\n",
    "lift1 = [120, 90, 130, 135, 105, 115]\n",
    "lift2 = [120, 90, 165, 150, 90, 115]\n",
    "put_back1 = [115, 90, 130, 135, 115, 115]\n",
    "put_back2 = [100, 90, 135, 125, 115, 115]\n",
    "rest = [60, 90, 180, 95, 40, 135]"
   ]
  },
  {
   "cell_type": "code",
   "execution_count": null,
   "metadata": {},
   "outputs": [],
   "source": [
    "arm_last = [30, 90, 110, 120, 120, 135]"
   ]
  },
  {
   "cell_type": "code",
   "execution_count": 185,
   "metadata": {},
   "outputs": [],
   "source": [
    "def move_arm(current, to, step=0.5):\n",
    "    order_ind = [0, 1, 5, 4, 3, 2]\n",
    "    while(current != to):\n",
    "        print(current, to)\n",
    "        for ind in order_ind:\n",
    "            if to[ind] > current[ind]:\n",
    "                dif = min(step, to[ind]-current[ind])\n",
    "                current[ind] += dif\n",
    "                kit.servo[ind].angle = current[ind]\n",
    "            elif to[ind] < current[ind]:\n",
    "                dif = min(step, current[ind]-to[ind])\n",
    "                current[ind] -= dif\n",
    "                kit.servo[ind].angle = current[ind]\n",
    "    return current"
   ]
  },
  {
   "cell_type": "code",
   "execution_count": 173,
   "metadata": {},
   "outputs": [
    {
     "data": {
      "text/plain": [
       "[90, 90, 180, 180, 120, 135]"
      ]
     },
     "execution_count": 173,
     "metadata": {},
     "output_type": "execute_result"
    }
   ],
   "source": [
    "current = [90, 90, 180, 180, 120, 135]\n",
    "current"
   ]
  },
  {
   "cell_type": "code",
   "execution_count": 188,
   "metadata": {},
   "outputs": [
    {
     "data": {
      "text/plain": [
       "([90, 90, 180, 180, 120, 115], [60, 90, 110, 180, 90, 135])"
      ]
     },
     "execution_count": 188,
     "metadata": {},
     "output_type": "execute_result"
    }
   ],
   "source": [
    "[90, 90, 180, 180, 120, 115]"
   ]
  },
  {
   "cell_type": "code",
   "execution_count": 273,
   "metadata": {},
   "outputs": [
    {
     "name": "stdout",
     "output_type": "stream",
     "text": [
      "[60.0, 90, 180.0, 95.0, 45.0, 135.0] [60, 90, 180, 95, 40, 135]\n",
      "[60.0, 90, 180.0, 95.0, 44.5, 135.0] [60, 90, 180, 95, 40, 135]\n",
      "[60.0, 90, 180.0, 95.0, 44.0, 135.0] [60, 90, 180, 95, 40, 135]\n",
      "[60.0, 90, 180.0, 95.0, 43.5, 135.0] [60, 90, 180, 95, 40, 135]\n",
      "[60.0, 90, 180.0, 95.0, 43.0, 135.0] [60, 90, 180, 95, 40, 135]\n",
      "[60.0, 90, 180.0, 95.0, 42.5, 135.0] [60, 90, 180, 95, 40, 135]\n",
      "[60.0, 90, 180.0, 95.0, 42.0, 135.0] [60, 90, 180, 95, 40, 135]\n",
      "[60.0, 90, 180.0, 95.0, 41.5, 135.0] [60, 90, 180, 95, 40, 135]\n",
      "[60.0, 90, 180.0, 95.0, 41.0, 135.0] [60, 90, 180, 95, 40, 135]\n",
      "[60.0, 90, 180.0, 95.0, 40.5, 135.0] [60, 90, 180, 95, 40, 135]\n"
     ]
    },
    {
     "data": {
      "text/plain": [
       "[60.0, 90, 180.0, 95.0, 40.0, 135.0]"
      ]
     },
     "execution_count": 273,
     "metadata": {},
     "output_type": "execute_result"
    }
   ],
   "source": [
    "current = move_arm(current, [60, 90, 180, 95, 40, 135])\n",
    "current"
   ]
  },
  {
   "cell_type": "code",
   "execution_count": 1,
   "metadata": {},
   "outputs": [],
   "source": [
    "from adafruit_servokit import ServoKit\n",
    "kit = ServoKit(channels=16)"
   ]
  },
  {
   "cell_type": "code",
   "execution_count": 71,
   "metadata": {},
   "outputs": [],
   "source": [
    "kit.servo[0].angle = 89 #cam tilt 30-150 (90 middle)"
   ]
  },
  {
   "cell_type": "code",
   "execution_count": 76,
   "metadata": {},
   "outputs": [],
   "source": [
    "kit.servo[2].angle = 85 #cam pan 0-180 (90 middle)"
   ]
  },
  {
   "cell_type": "code",
   "execution_count": 70,
   "metadata": {},
   "outputs": [],
   "source": [
    "kit.servo[3].angle = 84 "
   ]
  },
  {
   "cell_type": "code",
   "execution_count": 8,
   "metadata": {},
   "outputs": [],
   "source": [
    "kit.servo[3].angle = 180"
   ]
  },
  {
   "cell_type": "code",
   "execution_count": 5,
   "metadata": {},
   "outputs": [],
   "source": [
    "kit.servo[4].angle = 30"
   ]
  },
  {
   "cell_type": "code",
   "execution_count": 12,
   "metadata": {},
   "outputs": [],
   "source": [
    "kit.servo[5].angle = 180"
   ]
  },
  {
   "cell_type": "code",
   "execution_count": null,
   "metadata": {},
   "outputs": [],
   "source": []
  }
 ],
 "metadata": {
  "kernelspec": {
   "display_name": "Python 3",
   "language": "python",
   "name": "python3"
  },
  "language_info": {
   "codemirror_mode": {
    "name": "ipython",
    "version": 3
   },
   "file_extension": ".py",
   "mimetype": "text/x-python",
   "name": "python",
   "nbconvert_exporter": "python",
   "pygments_lexer": "ipython3",
   "version": "3.7.3"
  }
 },
 "nbformat": 4,
 "nbformat_minor": 2
}
